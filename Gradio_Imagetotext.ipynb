{
  "nbformat": 4,
  "nbformat_minor": 0,
  "metadata": {
    "colab": {
      "private_outputs": true,
      "provenance": []
    },
    "kernelspec": {
      "name": "python3",
      "display_name": "Python 3"
    },
    "language_info": {
      "name": "python"
    }
  },
  "cells": [
    {
      "cell_type": "markdown",
      "source": [
        "Gradio \\\\: USE image to Text Prompt..."
      ],
      "metadata": {
        "id": "-OLLUS1tUs3D"
      }
    },
    {
      "cell_type": "code",
      "source": [
        "!pip install gradio\n",
        "import gradio as gr\n",
        "\n",
        "gr.Interface.load(\"models/Salesforce/blip-image-captioning-base\").launch()\n"
      ],
      "metadata": {
        "id": "niJPOzCZSIHA"
      },
      "execution_count": null,
      "outputs": []
    },
    {
      "cell_type": "code",
      "source": [],
      "metadata": {
        "id": "iK2btYQ5Sdak"
      },
      "execution_count": null,
      "outputs": []
    }
  ]
}